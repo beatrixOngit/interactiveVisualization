{
 "cells": [
  {
   "cell_type": "markdown",
   "metadata": {},
   "source": [
    "## Interactive Mortgage Computing Tool\n",
    "Author: **@beatrixOnGit**\n",
    "Date: July 14, 2020\n",
    "\n",
    "                                ----Free to fork or reuse----"
   ]
  },
  {
   "cell_type": "code",
   "execution_count": 34,
   "metadata": {},
   "outputs": [],
   "source": [
    "#Import the right packages\n",
    "import math\n",
    "import numpy as np\n",
    "import matplotlib.pyplot as plt\n",
    "from matplotlib import figure\n",
    "from ipywidgets import interact"
   ]
  },
  {
   "cell_type": "code",
   "execution_count": 107,
   "metadata": {},
   "outputs": [
    {
     "data": {
      "application/vnd.jupyter.widget-view+json": {
       "model_id": "92b06795d4674cc0a3476bf7ab58757d",
       "version_major": 2,
       "version_minor": 0
      },
      "text/plain": [
       "interactive(children=(IntSlider(value=200000, description='price', max=600000, min=-200000), IntSlider(value=1…"
      ]
     },
     "metadata": {},
     "output_type": "display_data"
    }
   ],
   "source": [
    "def houseprice(price=100000, percent = 20, years=15, apr=4, monthly=3000):\n",
    "    print('Market Price\\t\\t${}'.format(price))\n",
    "    down = (int(price)*int(percent)/100.0) \n",
    "    principal = int(price) - down\n",
    "    print('--'*15)\n",
    "    print(f\"Down payment\\t\\t${round(down,20)}\")\n",
    "    print (f'Closing cost\\t\\t+$10000\\nOther charges\\t\\t+$5000')\n",
    "    print(f'Closing Day\\t\\t-${down+10000+5000}')\n",
    "    print (f'Principal Loan Amt\\t${round(principal, 2)}')\n",
    "    \n",
    "    n = years*12\n",
    "    print(f'{years} years\\t{n} payments.')\n",
    "    p = principal\n",
    "    #print(f'Per payment your principal is {p/n}')\n",
    "    i = apr*0.01/12\n",
    "    #print('per month rate', i)\n",
    "    somemath = (1+i)**n\n",
    "    new_i = (i*somemath)/(somemath-1.0)\n",
    "    M = principal*new_i\n",
    "    print(f'Monthly Payment\\t\\t${round(M, 1)}')\n",
    "    total_paid = M*n\n",
    "    print(f'Over {years} years, you pay ${round(total_paid, 2)}\\nThat\\'s an extra ${round(total_paid-principal,2)} in interest')\n",
    "    new_n = principal/float(monthly)\n",
    "    \n",
    "    print(f'If you paid ${monthly}/mo, you can be done in {int(new_n)} payments or {round(new_n/12,1)} years')\n",
    "\n",
    "interact(houseprice, price=200000, percent =10, years=15, apr=3, monthly=2000);"
   ]
  },
  {
   "cell_type": "markdown",
   "metadata": {},
   "source": [
    "                            -----End of code-----"
   ]
  }
 ],
 "metadata": {
  "kernelspec": {
   "display_name": "Python 3",
   "language": "python",
   "name": "python3"
  },
  "language_info": {
   "codemirror_mode": {
    "name": "ipython",
    "version": 3
   },
   "file_extension": ".py",
   "mimetype": "text/x-python",
   "name": "python",
   "nbconvert_exporter": "python",
   "pygments_lexer": "ipython3",
   "version": "3.7.0"
  },
  "toc": {
   "base_numbering": 1,
   "nav_menu": {},
   "number_sections": true,
   "sideBar": true,
   "skip_h1_title": false,
   "title_cell": "Table of Contents",
   "title_sidebar": "Contents",
   "toc_cell": false,
   "toc_position": {},
   "toc_section_display": true,
   "toc_window_display": false
  },
  "varInspector": {
   "cols": {
    "lenName": 16,
    "lenType": 16,
    "lenVar": 40
   },
   "kernels_config": {
    "python": {
     "delete_cmd_postfix": "",
     "delete_cmd_prefix": "del ",
     "library": "var_list.py",
     "varRefreshCmd": "print(var_dic_list())"
    },
    "r": {
     "delete_cmd_postfix": ") ",
     "delete_cmd_prefix": "rm(",
     "library": "var_list.r",
     "varRefreshCmd": "cat(var_dic_list()) "
    }
   },
   "types_to_exclude": [
    "module",
    "function",
    "builtin_function_or_method",
    "instance",
    "_Feature"
   ],
   "window_display": false
  }
 },
 "nbformat": 4,
 "nbformat_minor": 4
}
