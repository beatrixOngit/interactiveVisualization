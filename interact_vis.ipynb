{
 "cells": [
  {
   "cell_type": "markdown",
   "metadata": {},
   "source": [
    "**07-14-2020**  \n",
    "*@beatrixOnGit*   \n",
    "\n",
    "Purpose: Interactive data visualization  \n",
    "**Dependencies**:\n",
    "* ipywidgets — interactive slider\n",
    "* numpy\n",
    "* matplotlib\n",
    "\n",
    "Adapted from https://towardsdatascience.com/interactive-graphs-in-python-830b1e6c197f and a couple of questions from StackOverflow"
   ]
  },
  {
   "cell_type": "code",
   "execution_count": 3,
   "metadata": {},
   "outputs": [],
   "source": [
    "#Import the right packages\n",
    "import math\n",
    "import numpy as np\n",
    "import matplotlib.pyplot as plt\n",
    "from matplotlib import figure\n",
    "from ipywidgets import interact"
   ]
  },
  {
   "cell_type": "code",
   "execution_count": 43,
   "metadata": {},
   "outputs": [
    {
     "data": {
      "application/vnd.jupyter.widget-view+json": {
       "model_id": "3d656e4d1a7f48d2a03a6f0ab63a5758",
       "version_major": 2,
       "version_minor": 0
      },
      "text/plain": [
       "interactive(children=(Text(value='Coder', description='text'), Output()), _dom_classes=('widget-interact',))"
      ]
     },
     "metadata": {},
     "output_type": "display_data"
    },
    {
     "data": {
      "application/vnd.jupyter.widget-view+json": {
       "model_id": "97692aad4d4c4e1da4bd867765ba184c",
       "version_major": 2,
       "version_minor": 0
      },
      "text/plain": [
       "interactive(children=(Text(value='Human', description='text'), Output()), _dom_classes=('widget-interact',))"
      ]
     },
     "metadata": {},
     "output_type": "display_data"
    },
    {
     "data": {
      "application/vnd.jupyter.widget-view+json": {
       "model_id": "1c7b992100bf4354b4260c0068b1d1a5",
       "version_major": 2,
       "version_minor": 0
      },
      "text/plain": [
       "interactive(children=(Text(value='Human', description='text'), Output()), _dom_classes=('widget-interact',))"
      ]
     },
     "metadata": {},
     "output_type": "display_data"
    },
    {
     "data": {
      "application/vnd.jupyter.widget-view+json": {
       "model_id": "ece4350e9b7b474cb3476e571c89ca07",
       "version_major": 2,
       "version_minor": 0
      },
      "text/plain": [
       "interactive(children=(IntSlider(value=5, description='num', max=15, min=-5), Output()), _dom_classes=('widget-…"
      ]
     },
     "metadata": {},
     "output_type": "display_data"
    },
    {
     "data": {
      "application/vnd.jupyter.widget-view+json": {
       "model_id": "96994d71e3b649aabee9f2672019e599",
       "version_major": 2,
       "version_minor": 0
      },
      "text/plain": [
       "interactive(children=(IntSlider(value=2, description='num', max=6, min=-2), Output()), _dom_classes=('widget-i…"
      ]
     },
     "metadata": {},
     "output_type": "display_data"
    },
    {
     "data": {
      "application/vnd.jupyter.widget-view+json": {
       "model_id": "ee16b690358a4cdaa29ecd4455d2b6ec",
       "version_major": 2,
       "version_minor": 0
      },
      "text/plain": [
       "interactive(children=(IntSlider(value=5, description='num', max=15, min=-5), Output()), _dom_classes=('widget-…"
      ]
     },
     "metadata": {},
     "output_type": "display_data"
    }
   ],
   "source": [
    "#The following examples are adapted from @interact docstrings\n",
    "def greeting(text=\"Human\"):\n",
    "    print(\"Greetings {}\".format(text))\n",
    "interact(greeting, text=\"Coder\")\n",
    "\n",
    "# 2. Using interact as a decorator\n",
    "@interact\n",
    "def greeting(text=\"Human\"):\n",
    "    print(\"Salutations {}\".format(text))\n",
    "\n",
    "# 3. Using interact as a decorator with named parameters\n",
    "@interact(text=\"Human\")\n",
    "def greeting(text=\"World\"):\n",
    "    print(\"Greetings {}\".format(text))\n",
    "\n",
    "#Render an interactive slider widget and prints square of number::\n",
    "\n",
    "# 1. Using interact as a function\n",
    "def square(num=1):\n",
    "    print(\"{} squared is {}\".format(num, num*num))\n",
    "interact(square, num=5)\n",
    "\n",
    "# 2. Using interact as a decorator\n",
    "@interact\n",
    "def square(num=2):\n",
    "    print(\"{} squared is {}\".format(num, num*num))\n",
    "\n",
    "# 3. Using interact as a decorator with named parameters\n",
    "@interact(num=5)\n",
    "def square(num=2):\n",
    "    print(\"{} squared is {}\".format(num, num*num))"
   ]
  },
  {
   "cell_type": "code",
   "execution_count": 40,
   "metadata": {},
   "outputs": [
    {
     "data": {
      "application/vnd.jupyter.widget-view+json": {
       "model_id": "b6a82501d55944b3b3a21a955cfb0b9c",
       "version_major": 2,
       "version_minor": 0
      },
      "text/plain": [
       "interactive(children=(IntSlider(value=1, description='n', max=3, min=-1), Output()), _dom_classes=('widget-int…"
      ]
     },
     "metadata": {},
     "output_type": "display_data"
    }
   ],
   "source": [
    "@interact\n",
    "def SineWave(n = 1):\n",
    "    f = 14\n",
    "    p = np.linspace(0, 2*math.pi, 100)\n",
    "    y = np.sin(p*n)\n",
    "    plt.plot(p, y);\n",
    "    plt.ylabel('sin(x)', fontsize=f);\n",
    "    plt.xlabel('x',fontsize=f);\n",
    "    plt.title('Sinwave function',fontsize=f);\n",
    "    plt.xticks(fontsize=f)\n",
    "    plt.yticks(fontsize=f)\n",
    "    plt.show()\n"
   ]
  },
  {
   "cell_type": "code",
   "execution_count": 41,
   "metadata": {},
   "outputs": [
    {
     "data": {
      "application/vnd.jupyter.widget-view+json": {
       "model_id": "13cae432f40245e0a205c38d4f6b75b6",
       "version_major": 2,
       "version_minor": 0
      },
      "text/plain": [
       "interactive(children=(IntSlider(value=1, description='n', max=3, min=-1), Output()), _dom_classes=('widget-int…"
      ]
     },
     "metadata": {},
     "output_type": "display_data"
    }
   ],
   "source": [
    "@interact\n",
    "def SquareWave(n=1):\n",
    "    f = 14\n",
    "    xmin=-1; xmax=10;\n",
    "    ymin=-2; ymax=2;\n",
    "    Nx=1000; offset=1;\n",
    "\n",
    "    x=np.linspace(xmin, xmax, Nx);\n",
    "    y=np.sign(x+n)*offset;\n",
    "    y[(x<n)]=0; y[(x>n+1)]=0;\n",
    "    \n",
    "    plt.plot(x, y);\n",
    "    plt.xlabel('x',fontsize=f);\n",
    "    plt.title('Squarewave function',fontsize=f);\n",
    "    plt.xticks(fontsize=f)\n",
    "    plt.yticks(fontsize=f)\n",
    "    plt.axis([xmin, xmax, ymin, ymax]);\n",
    "    plt.show()"
   ]
  },
  {
   "cell_type": "code",
   "execution_count": 42,
   "metadata": {},
   "outputs": [
    {
     "data": {
      "application/vnd.jupyter.widget-view+json": {
       "model_id": "2a0e72616fdd489d9f9532b09e005a2b",
       "version_major": 2,
       "version_minor": 0
      },
      "text/plain": [
       "interactive(children=(IntSlider(value=1, description='n', max=3, min=-1), Output()), _dom_classes=('widget-int…"
      ]
     },
     "metadata": {},
     "output_type": "display_data"
    }
   ],
   "source": [
    "@interact\n",
    "def CosWave(n = 1):\n",
    "    f = 14 #fontsize\n",
    "    y = []\n",
    "    p = np.linspace(-(2 * np.pi), 2 * np.pi, 20) \n",
    "    \n",
    "    for i in range(len(p)): \n",
    "        y.append(math.cos(p[i]*n)) \n",
    "    i += 1\n",
    "    \n",
    "    plt.plot(p, y, color = 'red', marker = \"*\")  \n",
    "    plt.ylabel('cos(x)', fontsize=f);\n",
    "    plt.xlabel('x',fontsize=f);\n",
    "    plt.title('Coswave function',fontsize=f);\n",
    "    plt.xticks(fontsize=f)\n",
    "    plt.yticks(fontsize=f)\n",
    "    plt.show()"
   ]
  },
  {
   "cell_type": "code",
   "execution_count": null,
   "metadata": {},
   "outputs": [],
   "source": []
  }
 ],
 "metadata": {
  "kernelspec": {
   "display_name": "Python 3",
   "language": "python",
   "name": "python3"
  },
  "language_info": {
   "codemirror_mode": {
    "name": "ipython",
    "version": 3
   },
   "file_extension": ".py",
   "mimetype": "text/x-python",
   "name": "python",
   "nbconvert_exporter": "python",
   "pygments_lexer": "ipython3",
   "version": "3.7.0"
  },
  "toc": {
   "base_numbering": 1,
   "nav_menu": {},
   "number_sections": true,
   "sideBar": true,
   "skip_h1_title": false,
   "title_cell": "Table of Contents",
   "title_sidebar": "Contents",
   "toc_cell": false,
   "toc_position": {},
   "toc_section_display": true,
   "toc_window_display": false
  },
  "varInspector": {
   "cols": {
    "lenName": 16,
    "lenType": 16,
    "lenVar": 40
   },
   "kernels_config": {
    "python": {
     "delete_cmd_postfix": "",
     "delete_cmd_prefix": "del ",
     "library": "var_list.py",
     "varRefreshCmd": "print(var_dic_list())"
    },
    "r": {
     "delete_cmd_postfix": ") ",
     "delete_cmd_prefix": "rm(",
     "library": "var_list.r",
     "varRefreshCmd": "cat(var_dic_list()) "
    }
   },
   "types_to_exclude": [
    "module",
    "function",
    "builtin_function_or_method",
    "instance",
    "_Feature"
   ],
   "window_display": false
  }
 },
 "nbformat": 4,
 "nbformat_minor": 4
}
